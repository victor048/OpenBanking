{
  "nbformat": 4,
  "nbformat_minor": 0,
  "metadata": {
    "colab": {
      "name": "Welcome To Colaboratory",
      "provenance": [],
      "collapsed_sections": [],
      "include_colab_link": true
    },
    "kernelspec": {
      "display_name": "Python 3",
      "name": "python3"
    }
  },
  "cells": [
    {
      "cell_type": "markdown",
      "metadata": {
        "id": "view-in-github",
        "colab_type": "text"
      },
      "source": [
        "<a href=\"https://colab.research.google.com/github/victor048/OpenBanking/blob/main/API.ipynb\" target=\"_parent\"><img src=\"https://colab.research.google.com/assets/colab-badge.svg\" alt=\"Open In Colab\"/></a>"
      ]
    },
    {
      "cell_type": "code",
      "metadata": {
        "id": "i5RZZxril01I"
      },
      "source": [
        "import requests\n",
        "import pandas as pd\n",
        "import matplotlib.pyplot as plt\n",
        "import pandas_profiling\n",
        "%matplotlib inline\n",
        "plt.style.use('seaborn-whitegrid')\n",
        "import numpy as np\n",
        "import json\n",
        "import sys, argparse, csv"
      ],
      "execution_count": 139,
      "outputs": []
    },
    {
      "cell_type": "code",
      "metadata": {
        "id": "MJ0M5p2Sl_Jw"
      },
      "source": [
        "session = requests.Session()\n",
        "session.headers.update({'Ocp-Apim-Subscription-Key': '543d332d2bac42a6863b55fd5ab5b79a'})\n",
        "response = session.get('https://apicpqiopenbanking.azure-api.net/products-service/v1/personal-credit-cards?page=1')"
      ],
      "execution_count": 140,
      "outputs": []
    },
    {
      "cell_type": "code",
      "metadata": {
        "colab": {
          "base_uri": "https://localhost:8080/"
        },
        "id": "561ygyeomDLf",
        "outputId": "7f64964e-7b88-4705-80ef-27cadd419aae"
      },
      "source": [
        "print(response.status_code)\n",
        "\n",
        "if response.status_code == 200:\n",
        "    print(\"Funcionando perfeitamente!\")\n",
        "else:\n",
        "    print(\"Resultado não encontrado!\")"
      ],
      "execution_count": 141,
      "outputs": [
        {
          "output_type": "stream",
          "name": "stdout",
          "text": [
            "200\n",
            "Funcionando perfeitamente!\n"
          ]
        }
      ]
    },
    {
      "cell_type": "code",
      "metadata": {
        "id": "nVN98Pw1ZqLk"
      },
      "source": [
        "#print(response.json())"
      ],
      "execution_count": 142,
      "outputs": []
    },
    {
      "cell_type": "code",
      "metadata": {
        "colab": {
          "base_uri": "https://localhost:8080/",
          "height": 231
        },
        "id": "uimepjgGPSi5",
        "outputId": "4b33435f-961a-44d9-bac9-7c7a1899f550"
      },
      "source": [
        "df = pd.read_csv('/content/response.csv', header=None)\n",
        "df"
      ],
      "execution_count": 143,
      "outputs": [
        {
          "output_type": "execute_result",
          "data": {
            "text/html": [
              "<div>\n",
              "<style scoped>\n",
              "    .dataframe tbody tr th:only-of-type {\n",
              "        vertical-align: middle;\n",
              "    }\n",
              "\n",
              "    .dataframe tbody tr th {\n",
              "        vertical-align: top;\n",
              "    }\n",
              "\n",
              "    .dataframe thead th {\n",
              "        text-align: right;\n",
              "    }\n",
              "</style>\n",
              "<table border=\"1\" class=\"dataframe\">\n",
              "  <thead>\n",
              "    <tr style=\"text-align: right;\">\n",
              "      <th></th>\n",
              "      <th>0</th>\n",
              "      <th>1</th>\n",
              "      <th>2</th>\n",
              "      <th>3</th>\n",
              "      <th>4</th>\n",
              "      <th>5</th>\n",
              "      <th>6</th>\n",
              "      <th>7</th>\n",
              "      <th>8</th>\n",
              "      <th>9</th>\n",
              "      <th>10</th>\n",
              "      <th>11</th>\n",
              "      <th>12</th>\n",
              "      <th>13</th>\n",
              "      <th>14</th>\n",
              "      <th>15</th>\n",
              "      <th>16</th>\n",
              "      <th>17</th>\n",
              "      <th>18</th>\n",
              "      <th>19</th>\n",
              "      <th>20</th>\n",
              "      <th>21</th>\n",
              "      <th>22</th>\n",
              "      <th>23</th>\n",
              "      <th>24</th>\n",
              "      <th>25</th>\n",
              "      <th>26</th>\n",
              "      <th>27</th>\n",
              "      <th>28</th>\n",
              "      <th>29</th>\n",
              "      <th>30</th>\n",
              "      <th>31</th>\n",
              "      <th>32</th>\n",
              "      <th>33</th>\n",
              "      <th>34</th>\n",
              "      <th>35</th>\n",
              "      <th>36</th>\n",
              "      <th>37</th>\n",
              "      <th>38</th>\n",
              "      <th>39</th>\n",
              "      <th>...</th>\n",
              "      <th>7158</th>\n",
              "      <th>7159</th>\n",
              "      <th>7160</th>\n",
              "      <th>7161</th>\n",
              "      <th>7162</th>\n",
              "      <th>7163</th>\n",
              "      <th>7164</th>\n",
              "      <th>7165</th>\n",
              "      <th>7166</th>\n",
              "      <th>7167</th>\n",
              "      <th>7168</th>\n",
              "      <th>7169</th>\n",
              "      <th>7170</th>\n",
              "      <th>7171</th>\n",
              "      <th>7172</th>\n",
              "      <th>7173</th>\n",
              "      <th>7174</th>\n",
              "      <th>7175</th>\n",
              "      <th>7176</th>\n",
              "      <th>7177</th>\n",
              "      <th>7178</th>\n",
              "      <th>7179</th>\n",
              "      <th>7180</th>\n",
              "      <th>7181</th>\n",
              "      <th>7182</th>\n",
              "      <th>7183</th>\n",
              "      <th>7184</th>\n",
              "      <th>7185</th>\n",
              "      <th>7186</th>\n",
              "      <th>7187</th>\n",
              "      <th>7188</th>\n",
              "      <th>7189</th>\n",
              "      <th>7190</th>\n",
              "      <th>7191</th>\n",
              "      <th>7192</th>\n",
              "      <th>7193</th>\n",
              "      <th>7194</th>\n",
              "      <th>7195</th>\n",
              "      <th>7196</th>\n",
              "      <th>7197</th>\n",
              "    </tr>\n",
              "  </thead>\n",
              "  <tbody>\n",
              "    <tr>\n",
              "      <th>0</th>\n",
              "      <td>{\"data\":{\"brand\":{\"name\":\"ITAU\"</td>\n",
              "      <td>companies:[{\"name\":\"INVESTCRED\"</td>\n",
              "      <td>cnpjNumber:\"61182408000116\"</td>\n",
              "      <td>urlComplementaryList:null</td>\n",
              "      <td>personalCreditCards:[{\"name\":\"PONTOFRIO ITAUCA...</td>\n",
              "      <td>identification:{\"product\":{\"type\":\"STANDARD_IN...</td>\n",
              "      <td>additionalInfo:\"\"}</td>\n",
              "      <td>creditCard:{\"network\":\"MASTERCARD\"</td>\n",
              "      <td>additionalInfo:\"\"}}</td>\n",
              "      <td>rewardsProgram:{\"hasRewardProgram\":false</td>\n",
              "      <td>rewardProgramInfo:\"\"}</td>\n",
              "      <td>fees:{\"services\":[{\"name\":\"AVALIACAO_EMERGENCI...</td>\n",
              "      <td>code:\"AVALIACAO_EMERGENCIAL_CREDITO\"</td>\n",
              "      <td>chargingTriggerInfo:\"Avaliação de viabilidade ...</td>\n",
              "      <td>a pedido do cliente</td>\n",
              "      <td>por meio de atendimento pessoal</td>\n",
              "      <td>para realização de despesa acima do limite do...</td>\n",
              "      <td>cobrada no máximo uma vez nos últimos trinta ...</td>\n",
              "      <td>prices:[{\"interval\":\"1_FAIXA_VALOR\"</td>\n",
              "      <td>value:\"NA\"</td>\n",
              "      <td>currency:\"BRL\"</td>\n",
              "      <td>customers:{\"rate\":\"NA\"}}</td>\n",
              "      <td>{\"interval\":\"2_FAIXA_VALOR\"</td>\n",
              "      <td>value:\"NA\"</td>\n",
              "      <td>currency:\"BRL\"</td>\n",
              "      <td>customers:{\"rate\":\"NA\"}}</td>\n",
              "      <td>{\"interval\":\"3_FAIXA_VALOR\"</td>\n",
              "      <td>value:\"NA\"</td>\n",
              "      <td>currency:\"BRL\"</td>\n",
              "      <td>customers:{\"rate\":\"NA\"}}</td>\n",
              "      <td>{\"interval\":\"4_FAIXA_VALOR\"</td>\n",
              "      <td>value:\"NA\"</td>\n",
              "      <td>currency:\"BRL\"</td>\n",
              "      <td>customers:{\"rate\":\"NA\"}}]</td>\n",
              "      <td>minimum:{\"value\":\"NA\"</td>\n",
              "      <td>currency:\"BRL\"}</td>\n",
              "      <td>maximum:{\"value\":\"NA\"</td>\n",
              "      <td>currency:\"BRL\"}}</td>\n",
              "      <td>{\"name\":\"ANUIDADE_DIFERENCIADA\"</td>\n",
              "      <td>code:\"ANUIDADE_DIFERENCIADA\"</td>\n",
              "      <td>...</td>\n",
              "      <td>customers:{\"rate\":\"NA\"}}]</td>\n",
              "      <td>minimumRate:\"NA\"</td>\n",
              "      <td>maximumRate:\"NA\"}]</td>\n",
              "      <td>instalmentRates:[{\"referentialRateIndexer\":\"PR...</td>\n",
              "      <td>rate:\"NA\"</td>\n",
              "      <td>applications:[{\"interval\":\"1_FAIXA\"</td>\n",
              "      <td>indexer:{\"rate\":\"NA\"}</td>\n",
              "      <td>customers:{\"rate\":\"NA\"}}</td>\n",
              "      <td>{\"interval\":\"2_FAIXA\"</td>\n",
              "      <td>indexer:{\"rate\":\"NA\"}</td>\n",
              "      <td>customers:{\"rate\":\"NA\"}}</td>\n",
              "      <td>{\"interval\":\"3_FAIXA\"</td>\n",
              "      <td>indexer:{\"rate\":\"NA\"}</td>\n",
              "      <td>customers:{\"rate\":\"NA\"}}</td>\n",
              "      <td>{\"interval\":\"4_FAIXA\"</td>\n",
              "      <td>indexer:{\"rate\":\"NA\"}</td>\n",
              "      <td>customers:{\"rate\":\"NA\"}}]</td>\n",
              "      <td>minimumRate:\"NA\"</td>\n",
              "      <td>maximumRate:\"NA\"}]</td>\n",
              "      <td>otherCredits:[{\"code\":\"PAGAMENTOS_CONTAS\"}</td>\n",
              "      <td>{\"code\":\"SAQUE_A_CREDITO\"}]}</td>\n",
              "      <td>termsConditions:{\"minimumFeeRate\":\"0.1500\"</td>\n",
              "      <td>additionalInfo:\"Você pode pagar qualquer valor...</td>\n",
              "      <td>desde a data de vencimento até o pagamento ou...</td>\n",
              "      <td>o que ocorrer primeiro. 2) Se já utilizou o c...</td>\n",
              "      <td>o valor pago será considerado uma entrada e v...</td>\n",
              "      <td>elegibilityCriteriaInfo:\"TER NO MINIMO 18 ANOS...</td>\n",
              "      <td>00 DE RENDA BRUTA. SUJEITO A APROVACAO NA ANAL...</td>\n",
              "      <td>closingProcessInfo:\"a) Quando você quiser  can...</td>\n",
              "      <td>a qualquer momento. b)Quando a gente pode can...</td>\n",
              "      <td>pelo menos</td>\n",
              "      <td>o pagamento mínimo na data de vencimento da f...</td>\n",
              "      <td>avisamos com 15 dias de antecedência.\"}}]}]}}</td>\n",
              "      <td>links:{\"self\":\"https://api.itau/open-banking/p...</td>\n",
              "      <td>first:null</td>\n",
              "      <td>prev:null</td>\n",
              "      <td>next:\"https://api.itau/open-banking/products-s...</td>\n",
              "      <td>last:\"https://api.itau/open-banking/products-s...</td>\n",
              "      <td>meta:{\"totalRecords\":150</td>\n",
              "      <td>totalPages:7}}</td>\n",
              "    </tr>\n",
              "  </tbody>\n",
              "</table>\n",
              "<p>1 rows × 7198 columns</p>\n",
              "</div>"
            ],
            "text/plain": [
              "                              0     ...            7197\n",
              "0  {\"data\":{\"brand\":{\"name\":\"ITAU\"  ...  totalPages:7}}\n",
              "\n",
              "[1 rows x 7198 columns]"
            ]
          },
          "metadata": {},
          "execution_count": 143
        }
      ]
    },
    {
      "cell_type": "code",
      "metadata": {
        "colab": {
          "base_uri": "https://localhost:8080/"
        },
        "id": "GkMtSn3zShs8",
        "outputId": "c28cb46e-7656-4c09-a885-715bf7b665c6"
      },
      "source": [
        "data = np.genfromtxt('/content/response.csv', delimiter=',', skip_header=10,\n",
        "                     skip_footer=10, names=['x', 'y', 'z'])"
      ],
      "execution_count": 144,
      "outputs": [
        {
          "output_type": "stream",
          "name": "stderr",
          "text": [
            "/usr/local/lib/python3.7/dist-packages/ipykernel_launcher.py:2: UserWarning: genfromtxt: Empty input file: \"/content/response.csv\"\n",
            "  \n"
          ]
        }
      ]
    },
    {
      "cell_type": "code",
      "metadata": {
        "colab": {
          "base_uri": "https://localhost:8080/"
        },
        "id": "EfklZGfPVDVE",
        "outputId": "e20c1814-0a47-43e2-c0f5-44c84f072c3a"
      },
      "source": [
        "data"
      ],
      "execution_count": 145,
      "outputs": [
        {
          "output_type": "execute_result",
          "data": {
            "text/plain": [
              "array([], dtype=[('x', '<f8'), ('y', '<f8'), ('z', '<f8')])"
            ]
          },
          "metadata": {},
          "execution_count": 145
        }
      ]
    },
    {
      "cell_type": "code",
      "metadata": {
        "colab": {
          "base_uri": "https://localhost:8080/"
        },
        "id": "taA_OKW1efGV",
        "outputId": "2018e286-9908-45da-bbad-62301c7e89a0"
      },
      "source": [
        "with open('response.csv', 'r') as csv:\n",
        "     first_line = csv.readline()\n",
        "     your_data = csv.readlines()\n",
        "\n",
        "ncol = first_line.count(',') \n",
        "ncol"
      ],
      "execution_count": 146,
      "outputs": [
        {
          "output_type": "execute_result",
          "data": {
            "text/plain": [
              "7197"
            ]
          },
          "metadata": {},
          "execution_count": 146
        }
      ]
    },
    {
      "cell_type": "code",
      "metadata": {
        "colab": {
          "base_uri": "https://localhost:8080/"
        },
        "id": "i8gK5V3ehJ6v",
        "outputId": "bb36ee19-e86d-41bc-c17f-125bdf168af0"
      },
      "source": [
        "df[2]"
      ],
      "execution_count": 155,
      "outputs": [
        {
          "output_type": "execute_result",
          "data": {
            "text/plain": [
              "0    cnpjNumber:\"61182408000116\"\n",
              "Name: 2, dtype: object"
            ]
          },
          "metadata": {},
          "execution_count": 155
        }
      ]
    }
  ]
}